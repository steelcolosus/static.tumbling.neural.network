{
 "cells": [
  {
   "cell_type": "markdown",
   "metadata": {},
   "source": [
    "# Static tumbling neural network"
   ]
  },
  {
   "cell_type": "markdown",
   "metadata": {},
   "source": [
    "## Imports"
   ]
  },
  {
   "cell_type": "code",
   "execution_count": 1,
   "metadata": {
    "collapsed": true
   },
   "outputs": [],
   "source": [
    "%matplotlib inline\n",
    "%config InlineBackend.figure_format = 'retina'\n",
    "import pandas as pd\n",
    "import numpy as np\n",
    "import tensorflow as tf\n",
    "import tflearn\n",
    "from tflearn.data_utils import pad_sequences, VocabularyProcessor\n",
    "import matplotlib.pyplot as plt\n",
    "from itertools import product"
   ]
  },
  {
   "cell_type": "markdown",
   "metadata": {},
   "source": [
    "## Load and prepare the data"
   ]
  },
  {
   "cell_type": "markdown",
   "metadata": {},
   "source": [
    "Import data from static tumbling csv file"
   ]
  },
  {
   "cell_type": "code",
   "execution_count": 2,
   "metadata": {},
   "outputs": [
    {
     "data": {
      "text/plain": [
       "914"
      ]
     },
     "execution_count": 2,
     "metadata": {},
     "output_type": "execute_result"
    }
   ],
   "source": [
    "static_tumbling = pd.read_csv('static-tumbling.csv')\n",
    "len(static_tumbling)"
   ]
  },
  {
   "cell_type": "markdown",
   "metadata": {},
   "source": [
    "## Separate the data into features and targets"
   ]
  },
  {
   "cell_type": "markdown",
   "metadata": {},
   "source": [
    "### Train, validation, Tests sets\n",
    "\n",
    "Now that we have the word_vectors, we're ready to split our data into train, validation, and test sets. Remember that we train on the train data, use the validation data to set the hyperparameters, and at the very end measure the network performance on the test data."
   ]
  },
  {
   "cell_type": "code",
   "execution_count": 3,
   "metadata": {},
   "outputs": [],
   "source": [
    "\n",
    "features, target = static_tumbling['elements'], static_tumbling['score']\n",
    "\n",
    "vp  = VocabularyProcessor(100, min_frequency=1)\n",
    "features = np.array(list(vp.fit_transform(features)))\n",
    "\n",
    "trainX, trainY = features[:800], target[:800,None]\n",
    "testX, testY = features[800:], target[800:,None]\n",
    "\n"
   ]
  },
  {
   "cell_type": "code",
   "execution_count": 4,
   "metadata": {},
   "outputs": [
    {
     "data": {
      "text/plain": [
       "114"
      ]
     },
     "execution_count": 4,
     "metadata": {},
     "output_type": "execute_result"
    }
   ],
   "source": [
    "len(testY)"
   ]
  },
  {
   "cell_type": "code",
   "execution_count": 5,
   "metadata": {},
   "outputs": [],
   "source": [
    "#embeding words\n",
    "##Sequence padding\n",
    "trainX = pad_sequences(trainX, maxlen=50, value=0)\n",
    "testX = pad_sequences(testX, maxlen=50, value=0)"
   ]
  },
  {
   "cell_type": "markdown",
   "metadata": {},
   "source": [
    "## Building the network"
   ]
  },
  {
   "cell_type": "code",
   "execution_count": 35,
   "metadata": {
    "collapsed": true
   },
   "outputs": [],
   "source": [
    "# Network building\n",
    "def build_model():\n",
    "    # This resets all parameters and variables, leave this here\n",
    "    tf.reset_default_graph()\n",
    "    #Input\n",
    "    net = tflearn.input_data([None, 50])\n",
    "    net = tflearn.embedding(net, input_dim=len(vp.vocabulary_), output_dim=10)\n",
    "    net = tflearn.lstm(net, 10)\n",
    "    net = tflearn.fully_connected(net, 1, activation='softmax')\n",
    "    \n",
    "    net = tflearn.regression(net, optimizer='adam', loss='categorical_crossentropy', learning_rate=0.001)\n",
    "    model = tflearn.DNN(net)\n",
    "    return model"
   ]
  },
  {
   "cell_type": "markdown",
   "metadata": {},
   "source": [
    "### Initializing the model"
   ]
  },
  {
   "cell_type": "code",
   "execution_count": 36,
   "metadata": {
    "collapsed": true
   },
   "outputs": [],
   "source": [
    "model = build_model()"
   ]
  },
  {
   "cell_type": "markdown",
   "metadata": {},
   "source": [
    "### Training the network"
   ]
  },
  {
   "cell_type": "code",
   "execution_count": 37,
   "metadata": {},
   "outputs": [
    {
     "name": "stdout",
     "output_type": "stream",
     "text": [
      "Training Step: 599  | time: 0.113s\n",
      "| Adam | epoch: 100 | loss: 0.00000 - binary_acc: 0.0008 -- iter: 640/720\n",
      "Training Step: 600  | time: 1.138s\n",
      "| Adam | epoch: 100 | loss: 0.00000 - binary_acc: 0.0007 | val_loss: 0.00000 - val_acc: 0.0000 -- iter: 720/720\n",
      "--\n"
     ]
    }
   ],
   "source": [
    "# Training\n",
    "model.fit(trainX, trainY, validation_set=0.1, show_metric=True, batch_size=32, n_epoch=100)"
   ]
  },
  {
   "cell_type": "markdown",
   "metadata": {},
   "source": [
    "I know total loss is still to high, but not that bad for the first round of hyper parameters, still room for total loss improvement "
   ]
  },
  {
   "cell_type": "markdown",
   "metadata": {},
   "source": [
    "Saving de model"
   ]
  },
  {
   "cell_type": "code",
   "execution_count": 51,
   "metadata": {},
   "outputs": [
    {
     "name": "stdout",
     "output_type": "stream",
     "text": [
      "INFO:tensorflow:/home/eduardo/projects/nanodegree/deeplearning/static.tumbling.neural.network/Checkpoints/model-with-transitions-with-3-layers.tfl is not in all_model_checkpoint_paths. Manually adding it.\n"
     ]
    }
   ],
   "source": [
    "# Load model\n",
    "# model.load('Checkpoints/model-with-transitions-with-3-layers.tfl')\n",
    "\n",
    "# Manually save model\n",
    "model.save(\"Checkpoints/model-seq2seq.tfl\")"
   ]
  },
  {
   "cell_type": "markdown",
   "metadata": {},
   "source": [
    "## Testing"
   ]
  },
  {
   "cell_type": "code",
   "execution_count": 22,
   "metadata": {
    "collapsed": true
   },
   "outputs": [],
   "source": [
    "# Helper function that uses our model to get the score for the static tumbling pass\n",
    "def test_score(sentence):\n",
    "    score = model.predict([text_to_vector(sentence.lower())])\n",
    "    print('Gym pass: {}'.format(sentence))\n",
    "    print('Score: {}'.format(score))\n",
    "    print()\n",
    "    return score\n",
    "\n",
    "# Helper function that uses our model to compare static tumbling passes\n",
    "def test_compare(pass1, pass2):\n",
    "    score1 = test_score(pass1)\n",
    "    score2 = test_score(pass2)\n",
    "    if score1 > score2:\n",
    "        print('Gym pass 1: {}'.format(pass1))\n",
    "    elif score2 > score1:\n",
    "        print('Gym pass 2: {}'.format(pass2))\n",
    "    else:\n",
    "        print('same difficulty')\n",
    "    "
   ]
  },
  {
   "cell_type": "markdown",
   "metadata": {},
   "source": [
    "Now we check the accuracy of the mode, this test checks which static tumbling line is more difficult, the second one is not even in the data we trianed the neural network."
   ]
  },
  {
   "cell_type": "markdown",
   "metadata": {},
   "source": [
    "First we compare to static tumblin pass that has the same elements but different transition cost or effort, \n",
    "acording to `flick mortal` and `mortal flick` it's harder to execute `mortal flick`"
   ]
  },
  {
   "cell_type": "code",
   "execution_count": 23,
   "metadata": {},
   "outputs": [
    {
     "ename": "NameError",
     "evalue": "name 'text_to_vector' is not defined",
     "output_type": "error",
     "traceback": [
      "\u001b[0;31m---------------------------------------------------------------------------\u001b[0m",
      "\u001b[0;31mNameError\u001b[0m                                 Traceback (most recent call last)",
      "\u001b[0;32m<ipython-input-23-aa016ab4c1ed>\u001b[0m in \u001b[0;36m<module>\u001b[0;34m()\u001b[0m\n\u001b[1;32m      2\u001b[0m \u001b[0melement2\u001b[0m \u001b[0;34m=\u001b[0m \u001b[0;34m\"mortal flick\"\u001b[0m\u001b[0;34m\u001b[0m\u001b[0m\n\u001b[1;32m      3\u001b[0m \u001b[0;34m\u001b[0m\u001b[0m\n\u001b[0;32m----> 4\u001b[0;31m \u001b[0mtest_compare\u001b[0m\u001b[0;34m(\u001b[0m\u001b[0melement1\u001b[0m\u001b[0;34m,\u001b[0m\u001b[0melement2\u001b[0m\u001b[0;34m)\u001b[0m\u001b[0;34m\u001b[0m\u001b[0m\n\u001b[0m",
      "\u001b[0;32m<ipython-input-22-71ef4211f36e>\u001b[0m in \u001b[0;36mtest_compare\u001b[0;34m(pass1, pass2)\u001b[0m\n\u001b[1;32m      9\u001b[0m \u001b[0;31m# Helper function that uses our model to compare static tumbling passes\u001b[0m\u001b[0;34m\u001b[0m\u001b[0;34m\u001b[0m\u001b[0m\n\u001b[1;32m     10\u001b[0m \u001b[0;32mdef\u001b[0m \u001b[0mtest_compare\u001b[0m\u001b[0;34m(\u001b[0m\u001b[0mpass1\u001b[0m\u001b[0;34m,\u001b[0m \u001b[0mpass2\u001b[0m\u001b[0;34m)\u001b[0m\u001b[0;34m:\u001b[0m\u001b[0;34m\u001b[0m\u001b[0m\n\u001b[0;32m---> 11\u001b[0;31m     \u001b[0mscore1\u001b[0m \u001b[0;34m=\u001b[0m \u001b[0mtest_score\u001b[0m\u001b[0;34m(\u001b[0m\u001b[0mpass1\u001b[0m\u001b[0;34m)\u001b[0m\u001b[0;34m\u001b[0m\u001b[0m\n\u001b[0m\u001b[1;32m     12\u001b[0m     \u001b[0mscore2\u001b[0m \u001b[0;34m=\u001b[0m \u001b[0mtest_score\u001b[0m\u001b[0;34m(\u001b[0m\u001b[0mpass2\u001b[0m\u001b[0;34m)\u001b[0m\u001b[0;34m\u001b[0m\u001b[0m\n\u001b[1;32m     13\u001b[0m     \u001b[0;32mif\u001b[0m \u001b[0mscore1\u001b[0m \u001b[0;34m>\u001b[0m \u001b[0mscore2\u001b[0m\u001b[0;34m:\u001b[0m\u001b[0;34m\u001b[0m\u001b[0m\n",
      "\u001b[0;32m<ipython-input-22-71ef4211f36e>\u001b[0m in \u001b[0;36mtest_score\u001b[0;34m(sentence)\u001b[0m\n\u001b[1;32m      1\u001b[0m \u001b[0;31m# Helper function that uses our model to get the score for the static tumbling pass\u001b[0m\u001b[0;34m\u001b[0m\u001b[0;34m\u001b[0m\u001b[0m\n\u001b[1;32m      2\u001b[0m \u001b[0;32mdef\u001b[0m \u001b[0mtest_score\u001b[0m\u001b[0;34m(\u001b[0m\u001b[0msentence\u001b[0m\u001b[0;34m)\u001b[0m\u001b[0;34m:\u001b[0m\u001b[0;34m\u001b[0m\u001b[0m\n\u001b[0;32m----> 3\u001b[0;31m     \u001b[0mscore\u001b[0m \u001b[0;34m=\u001b[0m \u001b[0mmodel\u001b[0m\u001b[0;34m.\u001b[0m\u001b[0mpredict\u001b[0m\u001b[0;34m(\u001b[0m\u001b[0;34m[\u001b[0m\u001b[0mtext_to_vector\u001b[0m\u001b[0;34m(\u001b[0m\u001b[0msentence\u001b[0m\u001b[0;34m.\u001b[0m\u001b[0mlower\u001b[0m\u001b[0;34m(\u001b[0m\u001b[0;34m)\u001b[0m\u001b[0;34m)\u001b[0m\u001b[0;34m]\u001b[0m\u001b[0;34m)\u001b[0m\u001b[0;34m\u001b[0m\u001b[0m\n\u001b[0m\u001b[1;32m      4\u001b[0m     \u001b[0mprint\u001b[0m\u001b[0;34m(\u001b[0m\u001b[0;34m'Gym pass: {}'\u001b[0m\u001b[0;34m.\u001b[0m\u001b[0mformat\u001b[0m\u001b[0;34m(\u001b[0m\u001b[0msentence\u001b[0m\u001b[0;34m)\u001b[0m\u001b[0;34m)\u001b[0m\u001b[0;34m\u001b[0m\u001b[0m\n\u001b[1;32m      5\u001b[0m     \u001b[0mprint\u001b[0m\u001b[0;34m(\u001b[0m\u001b[0;34m'Score: {}'\u001b[0m\u001b[0;34m.\u001b[0m\u001b[0mformat\u001b[0m\u001b[0;34m(\u001b[0m\u001b[0mscore\u001b[0m\u001b[0;34m)\u001b[0m\u001b[0;34m)\u001b[0m\u001b[0;34m\u001b[0m\u001b[0m\n",
      "\u001b[0;31mNameError\u001b[0m: name 'text_to_vector' is not defined"
     ]
    }
   ],
   "source": [
    "element1 = \"flick mortal\"\n",
    "element2 = \"mortal flick\"\n",
    "\n",
    "test_compare(element1,element2)"
   ]
  },
  {
   "cell_type": "markdown",
   "metadata": {},
   "source": [
    "Now test the model with data that wasn't in the data set\n",
    "\n",
    "in this complex example the second element is a lot harder to execute"
   ]
  },
  {
   "cell_type": "code",
   "execution_count": 54,
   "metadata": {},
   "outputs": [
    {
     "name": "stdout",
     "output_type": "stream",
     "text": [
      "Gym pass: flick flick flick flick flick mortal giro giro giro2\n",
      "Score: [[41.87822341918945]]\n",
      "\n",
      "Gym pass: mortal flick giro flick giro mortal giro2 giro2 giro2\n",
      "Score: [[43.9975700378418]]\n",
      "\n",
      "Gym pass 2: mortal flick giro flick giro mortal giro2 giro2 giro2\n"
     ]
    }
   ],
   "source": [
    "test_element1 = \"flick flick flick flick flick mortal giro giro giro2\"\n",
    "test_element2 = \"mortal flick giro flick giro mortal giro2 giro2 giro2\"\n",
    "\n",
    "test_compare(test_element1,test_element2)"
   ]
  },
  {
   "cell_type": "markdown",
   "metadata": {},
   "source": [
    "### Test data validation\n",
    "\n",
    "Now the test values we separeted from the begining are going to be compared with the actual values to check model accuracy "
   ]
  },
  {
   "cell_type": "code",
   "execution_count": 38,
   "metadata": {},
   "outputs": [
    {
     "data": {
      "text/plain": [
       "<matplotlib.legend.Legend at 0x7fd42a7834a8>"
      ]
     },
     "execution_count": 38,
     "metadata": {},
     "output_type": "execute_result"
    },
    {
     "data": {
      "image/png": "[encoded data removed]",
      "text/plain": [
       "<matplotlib.figure.Figure at 0x7fd449561d68>"
      ]
     },
     "metadata": {
      "image/png": {
       "height": 358,
       "width": 872
      }
     },
     "output_type": "display_data"
    }
   ],
   "source": [
    "fig, ax = plt.subplots(figsize=(15,6))\n",
    "predictions = model.predict(testX)\n",
    "ax.plot(predictions,label='Prediction')\n",
    "ax.plot(testY, label='Data')\n",
    "ax.set_xlim(right=len(predictions))\n",
    "ax.legend()"
   ]
  },
  {
   "cell_type": "code",
   "execution_count": null,
   "metadata": {
    "collapsed": true
   },
   "outputs": [],
   "source": []
  }
 ],
 "metadata": {
  "kernelspec": {
   "display_name": "Python 3",
   "language": "python",
   "name": "python3"
  },
  "language_info": {
   "codemirror_mode": {
    "name": "ipython",
    "version": 3
   },
   "file_extension": ".py",
   "mimetype": "text/x-python",
   "name": "python",
   "nbconvert_exporter": "python",
   "pygments_lexer": "ipython3",
   "version": "3.5.3"
  }
 },
 "nbformat": 4,
 "nbformat_minor": 2
}
